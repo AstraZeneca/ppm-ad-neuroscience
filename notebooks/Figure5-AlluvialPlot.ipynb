{
 "cells": [
  {
   "cell_type": "code",
   "execution_count": 1,
   "metadata": {},
   "outputs": [],
   "source": [
    "import pandas as pd\n",
    "import plotly.graph_objects as go\n",
    "import matplotlib.pyplot as plt"
   ]
  },
  {
   "cell_type": "markdown",
   "metadata": {},
   "source": [
    "# Alluvial plot"
   ]
  },
  {
   "cell_type": "code",
   "execution_count": 4,
   "metadata": {},
   "outputs": [
    {
     "data": {
      "text/html": [
       "<a href=\"../figures/Figure5_LY3314814-20mg.html\" target=\"_blank\">View Sankey Diagram for LY3314814-20mg</a>"
      ],
      "text/plain": [
       "<IPython.core.display.HTML object>"
      ]
     },
     "metadata": {},
     "output_type": "display_data"
    },
    {
     "data": {
      "text/html": [
       "<a href=\"../figures/Figure5_LY3314814-50mg.html\" target=\"_blank\">View Sankey Diagram for LY3314814-50mg</a>"
      ],
      "text/plain": [
       "<IPython.core.display.HTML object>"
      ]
     },
     "metadata": {},
     "output_type": "display_data"
    },
    {
     "data": {
      "text/html": [
       "<a href=\"../figures/Figure5_Placebo.html\" target=\"_blank\">View Sankey Diagram for Placebo</a>"
      ],
      "text/plain": [
       "<IPython.core.display.HTML object>"
      ]
     },
     "metadata": {},
     "output_type": "display_data"
    }
   ],
   "source": [
    "from IPython.display import HTML\n",
    "\n",
    "\"\"\"\n",
    "This script generates Sankey diagrams to visualize the transitions between PPM-stratified group \n",
    "(Slow and Rapid) from baseline to follow-up for different treatment groups. The data \n",
    "is sourced from CSV files containing baseline and follow-up PPM-stratified group information, as well as \n",
    "treatment details. The diagrams are saved as EPS files for each treatment group.\"\"\"\n",
    "\n",
    "# Load the baseline and follow-up AD category data\n",
    "df = pd.read_csv('../data/baseline_followup_adcategory.csv')\n",
    "\n",
    "# Define the order of categories for consistency\n",
    "category_order = ['Slow-Slow', 'Slow-Rapid', 'Rapid-Slow', 'Rapid-Rapid']\n",
    "\n",
    "# Create a new column to represent the combined categories\n",
    "df['category'] = df['ad_category_baseline'] + '-' + df['ad_category_104']\n",
    "\n",
    "# Merge with additional treatment information\n",
    "df_all = pd.read_csv(\"../data/combined_df.csv\")\n",
    "df_temp = df.set_index(\"EID\").join(df_all.set_index(\"EID\")[\"Treatment Information\"], how='left')\n",
    "df_copy = df_temp.reset_index()\n",
    "df_treatment = df_copy[~df_copy[\"EID\"].duplicated()]\n",
    "\n",
    "# Define treatments and colors for the Sankey diagram\n",
    "treatment = ['LY3314814-20mg', 'LY3314814-50mg', 'Placebo']\n",
    "link_colors = [\n",
    "    \"rgba(200, 200, 200, 0.7)\",  # Neutral gray\n",
    "    \"rgba(176, 48, 48, 0.7)\",    # Dark red\n",
    "    \"rgba(84, 189, 84, 0.7)\",    # Green\n",
    "    \"rgba(200, 200, 200, 0.7)\"   # Neutral gray\n",
    "]\n",
    "node_colors = [\n",
    "    \"rgba(136, 8, 8, 0.7)\",  # Red for 'Slow'\n",
    "    \"rgba(34, 139, 34, 0.7)\",  # Green for 'Rapid'\n",
    "    \"rgba(136, 8, 8, 0.7)\",  # Red for 'Slow' (follow-up)\n",
    "    \"rgba(34, 139, 34, 0.7)\"  # Green for 'Rapid' (follow-up)\n",
    "]\n",
    "\n",
    "# Generate Sankey diagrams for each treatment group\n",
    "for treat in treatment:\n",
    "    # Filter data for the current treatment group\n",
    "    df_treat = df_treatment[df_treatment[\"Treatment Information\"] == treat]\n",
    "    \n",
    "    # Define categories and mapping for Sankey diagram\n",
    "    cats = ['Slow', 'Rapid']\n",
    "    dict_cat = {'Slow': 0, 'Rapid': 1}\n",
    "    source = []\n",
    "    target = []\n",
    "    counts = []\n",
    "    \n",
    "    # Calculate source, target, and counts for transitions\n",
    "    for cat_1 in cats:\n",
    "        for cat_2 in cats:\n",
    "            n_patients = sum(df_treat['ad_category_baseline'] == cat_1)\n",
    "            source.append(dict_cat[cat_1])\n",
    "            target.append(dict_cat[cat_2] + 2)  # Offset for follow-up categories\n",
    "            count_patients = sum(df_treat['category'] == f\"{cat_1}-{cat_2}\")\n",
    "            counts.append((count_patients / n_patients) * 100 if n_patients > 0 else 0)\n",
    "\n",
    "    # Create the Sankey diagram\n",
    "    fig = go.Figure(data=[go.Sankey(\n",
    "        node=dict(\n",
    "            pad=15,\n",
    "            thickness=20,\n",
    "            line=dict(color=\"black\", width=0.6),\n",
    "            label=['Slow', 'Rapid', 'Slow', 'Rapid'],  # Baseline and follow-up categories\n",
    "            color=node_colors\n",
    "        ),\n",
    "        link=dict(\n",
    "            source=source,\n",
    "            target=target,\n",
    "            value=counts,\n",
    "            color=link_colors\n",
    "        )\n",
    "    )])\n",
    "\n",
    "    # Update layout and save the figure\n",
    "    fig.update_layout(\n",
    "        title_text=f\"{treat}\",\n",
    "        font_size=14,\n",
    "        width=800  # Specify the desired width of the plot\n",
    "    )\n",
    "    \n",
    "    \n",
    "    # fig.write_image(f'../figures/Figure5_{treat}.png')\n",
    "    # fig.show()\n",
    "\n",
    "    # Freeze and embed the Plotly plot in the Jupyter Notebook\n",
    "    # Save the figure as an HTML file for better compatibility with GitHub\n",
    "    fig.write_html(f'../figures/Figure5_{treat}.html')\n",
    "    display(HTML(f'<a href=\"../figures/Figure5_{treat}.html\" target=\"_blank\">View Sankey Diagram for {treat}</a>'))\n"
   ]
  }
 ],
 "metadata": {
  "kernelspec": {
   "display_name": "FCVM",
   "language": "python",
   "name": "python3"
  },
  "language_info": {
   "codemirror_mode": {
    "name": "ipython",
    "version": 3
   },
   "file_extension": ".py",
   "mimetype": "text/x-python",
   "name": "python",
   "nbconvert_exporter": "python",
   "pygments_lexer": "ipython3",
   "version": "3.10.0"
  }
 },
 "nbformat": 4,
 "nbformat_minor": 2
}
